{
 "cells": [
  {
   "cell_type": "code",
   "execution_count": 1,
   "metadata": {
    "ExecuteTime": {
     "end_time": "2019-04-29T05:40:02.158495Z",
     "start_time": "2019-04-29T05:40:01.549127Z"
    }
   },
   "outputs": [],
   "source": [
    "import os\n",
    "import json\n",
    "import traceback\n",
    "import requests\n",
    "from selenium import webdriver\n",
    "from selenium.webdriver.common.desired_capabilities import DesiredCapabilities\n",
    "\n",
    "import AiohttpFrame_Config"
   ]
  },
  {
   "cell_type": "code",
   "execution_count": 2,
   "metadata": {
    "ExecuteTime": {
     "end_time": "2019-04-29T05:40:06.478937Z",
     "start_time": "2019-04-29T05:40:06.460980Z"
    },
    "code_folding": [
     1,
     7,
     19,
     30,
     37,
     43,
     51
    ]
   },
   "outputs": [],
   "source": [
    "class AiohttpFrame_Browser:\n",
    "    def __init__(self, chrome_path=None,cookies_jsonfile=None,headers=None):   \n",
    "        \n",
    "        self.chrome_path = AiohttpFrame_Config.chrome_path if not chrome_path else chrome_path\n",
    "        self.cookies_jsonfile = AiohttpFrame_Config.cookies_jsonfile if not cookies_jsonfile else cookies_jsonfile\n",
    "        self.headers = AiohttpFrame_Config.headers if not headers else headers\n",
    "        \n",
    "    def ab_init_chrome_browser(self):\n",
    "        executable_path = self.chrome_path\n",
    "        options = self.ab_set_chrome_options()\n",
    "        # 记录日志\n",
    "        desired = DesiredCapabilities.CHROME\n",
    "        desired['loggingPrefs'] = {'performance':'ALL'}\n",
    "        self.browser = webdriver.Chrome(executable_path=executable_path,\n",
    "                                        options=options,\n",
    "                                        desired_capabilities=desired)\n",
    "        # 等待1秒\n",
    "        self.browser.implicitly_wait(1)\n",
    "    \n",
    "    def ab_set_chrome_options(self):\n",
    "        # 初始设置\n",
    "        options = webdriver.ChromeOptions()\n",
    "        options.add_argument('disable-infobars')    \n",
    "        #options.add_argument('--window-position=0,0')\n",
    "        options.add_argument('--start-maximized')\n",
    "        options.add_argument('--force-device-scale-factor=1')\n",
    "        prefs = {'profile.default_content_setting_values':{'notifications':2}}\n",
    "        options.add_experimental_option('prefs',prefs)\n",
    "        return options\n",
    "    \n",
    "    def ab_get_session_data_with_cookies(self,url):\n",
    "        session = requests.Session()\n",
    "        cookies = self.ab_load_cookies()\n",
    "        session.cookies.update(cookies)\n",
    "        result = session.get(url,headers=self.headers)\n",
    "        return result\n",
    "    \n",
    "    def ab_dump_cookies(self):\n",
    "        # 保存cookies到json\n",
    "        cookies = self.browser.get_cookies()\n",
    "        cookies = {item['name']:item['value'] for item in cookies}\n",
    "        json.dump(cookies,open(self.cookies_jsonfile,'w'))\n",
    "    \n",
    "    def ab_load_cookies(self):\n",
    "        # 读取cookies\n",
    "        try:\n",
    "            cookies = json.load(open(self.cookies_jsonfile))\n",
    "            return cookies\n",
    "        except:\n",
    "            traceback.print_exc()\n",
    "        \n",
    "    def ab_close_browser(self):\n",
    "        # 关闭浏览器\n",
    "        try:\n",
    "            self.browser.quit()\n",
    "        except Exception as e:\n",
    "            traceback.print_exc()"
   ]
  },
  {
   "cell_type": "code",
   "execution_count": 3,
   "metadata": {
    "ExecuteTime": {
     "end_time": "2019-04-29T05:40:26.522301Z",
     "start_time": "2019-04-29T05:40:07.203992Z"
    }
   },
   "outputs": [
    {
     "name": "stdout",
     "output_type": "stream",
     "text": [
      "None\n",
      "{'H_PS_PSSID': '1453_21095_18560_28775_28723_28838_28585_28604_28891', 'delPer': '0', 'BAIDUID': '86B25F6D0CD65084A23BD77FA5045727:FG=1', 'PSTM': '1556516423', 'BIDUPSID': '86B25F6D0CD65084A23BD77FA5045727', 'BD_HOME': '0', 'BDORZ': 'B490B5EBF6F3CD402E515D22BCDA1598', 'BD_UPN': '12314753'}\n"
     ]
    }
   ],
   "source": [
    "if __name__ == '__main__':\n",
    "    def test_MyBrowser():\n",
    "        mybrowser = AiohttpFrame_Browser()\n",
    "        mybrowser.ab_init_chrome_browser() # 打开selenium浏览器\n",
    "        mybrowser.browser.get('https://www.baidu.com')\n",
    "        print(mybrowser.ab_dump_cookies())\n",
    "        print(mybrowser.ab_load_cookies())\n",
    "    test_MyBrowser()"
   ]
  },
  {
   "cell_type": "code",
   "execution_count": null,
   "metadata": {},
   "outputs": [],
   "source": []
  }
 ],
 "metadata": {
  "kernelspec": {
   "display_name": "Python 3",
   "language": "python",
   "name": "python3"
  },
  "language_info": {
   "codemirror_mode": {
    "name": "ipython",
    "version": 3
   },
   "file_extension": ".py",
   "mimetype": "text/x-python",
   "name": "python",
   "nbconvert_exporter": "python",
   "pygments_lexer": "ipython3",
   "version": "3.7.1"
  },
  "varInspector": {
   "cols": {
    "lenName": 16,
    "lenType": 16,
    "lenVar": 40
   },
   "kernels_config": {
    "python": {
     "delete_cmd_postfix": "",
     "delete_cmd_prefix": "del ",
     "library": "var_list.py",
     "varRefreshCmd": "print(var_dic_list())"
    },
    "r": {
     "delete_cmd_postfix": ") ",
     "delete_cmd_prefix": "rm(",
     "library": "var_list.r",
     "varRefreshCmd": "cat(var_dic_list()) "
    }
   },
   "types_to_exclude": [
    "module",
    "function",
    "builtin_function_or_method",
    "instance",
    "_Feature"
   ],
   "window_display": false
  }
 },
 "nbformat": 4,
 "nbformat_minor": 2
}
