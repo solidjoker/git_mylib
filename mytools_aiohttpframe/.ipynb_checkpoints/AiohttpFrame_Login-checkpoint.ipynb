{
 "cells": [
  {
   "cell_type": "markdown",
   "metadata": {},
   "source": [
    "# AiohttpFrame_Login"
   ]
  },
  {
   "cell_type": "code",
   "execution_count": 1,
   "metadata": {
    "ExecuteTime": {
     "end_time": "2019-05-15T03:00:55.870570Z",
     "start_time": "2019-05-15T03:00:55.571372Z"
    }
   },
   "outputs": [],
   "source": [
    "\"\"\"\n",
    "support tools for aiohttpframe, see the docs in the Class AiohttpFrame_Login for detail\n",
    "    - tool_name: AiohttpFrame_Login\n",
    "    - version: 0.0.2\n",
    "    - update date: 2019-05-15\n",
    "    - import: from mytools_aiohttpframe import AiohttpFrame_Login\n",
    "\"\"\"\n",
    "\n",
    "import time\n",
    "\n",
    "from mytools_aiohttpframe.AiohttpFrame_Browser import AiohttpFrame_Browser"
   ]
  },
  {
   "cell_type": "code",
   "execution_count": null,
   "metadata": {
    "ExecuteTime": {
     "end_time": "2019-05-15T03:00:56.038124Z",
     "start_time": "2019-05-15T03:00:54.043Z"
    },
    "code_folding": [
     35
    ]
   },
   "outputs": [],
   "source": [
    "class AiohttpFrame_Login(AiohttpFrame_Browser):\n",
    "    \"\"\"\n",
    "    support tools for aiohttpframe, see the docs in the Class AiohttpFrame_Login for detail\n",
    "        - tool_name: AiohttpFrame_Login\n",
    "        - version: 0.0.2\n",
    "        - update date: 2019-05-15\n",
    "        - import: from mytools_aiohttpframe import AiohttpFrame_Login\n",
    "        - need inherit class and delegate the method, example:\n",
    "            --------------------------------------------------------------------\n",
    "            print('Test for inherit the class AiohttpFrame_Login to login baidu')\n",
    "            print('='*40)\n",
    "            class BaiduLogin(AiohttpFrame_Login):\n",
    "                def __init__(self):\n",
    "                    super(BaiduLogin,self).__init__()\n",
    "                    self.check_login_url = 'https://passport.baidu.com/center'\n",
    "\n",
    "\n",
    "                def delegate_check_login_status(self,result=None):\n",
    "                    if '登录历史' in result.content.decode('utf-8'):\n",
    "                        return True\n",
    "\n",
    "                def delegate_mannual_login(self):\n",
    "                    print('mannul login')\n",
    "                    url = 'https://passport.baidu.com/center'\n",
    "                    while not self.browser.current_url == url: # self.browser inherit from parent class\n",
    "                        print(self.browser.current_url)\n",
    "                        time.sleep(5)\n",
    "                    return True\n",
    "\n",
    "            baidulogin = BaiduLogin()\n",
    "            baidulogin.al_keep_login(check_login_url=baidulogin.check_login_url,\n",
    "                                     mannual_login_url=baidulogin.check_login_url)\n",
    "                                     \n",
    "            --------------------------------------------------------------------            \n",
    "    \n",
    "    \"\"\"\n",
    "    \n",
    "    def __init__(self,chrome_path=None,cookies_jsonfile=None,headers=None):  \n",
    "        \"\"\"\n",
    "        init the class and get the setting of chrome browser\n",
    "        :param chrome_path: chrome_path, or AiohttpFrame_Config.chrome_path if None\n",
    "        :param cookies_jsonfile: cookies_jsonfile, or AiohttpFrame_Config.cookies_jsonfile if None\n",
    "        :param headers: headers, or AiohttpFrame_Config.headers if None        \n",
    "        \"\"\"   \n",
    "        super(AiohttpFrame_Login,self).__init__(chrome_path=headers,\n",
    "                                                cookies_jsonfile=cookies_jsonfile,\n",
    "                                                headers=headers)\n",
    "    \n",
    "    def al_keep_login(self,check_login_url=None,mannual_login_url=None):\n",
    "        \"\"\"\n",
    "        keep the login status \n",
    "        :param check_login_url: check_login_url for check the login status\n",
    "        :param mannual_login_url: mannual_login_url to login\n",
    "        :return: True\n",
    "        \"\"\"   \n",
    "        while not self.al_check_login_status(check_login_url):\n",
    "            if self.al_mannual_login(mannual_login_url):\n",
    "                print(f'mannual login successfully!')\n",
    "                break\n",
    "        print(f'logged in and {self.cookies_jsonfile} is availabe!')\n",
    "        return True\n",
    "    \n",
    "    def al_check_login_status(self,check_login_url=None):\n",
    "        \"\"\"\n",
    "        check the login status \n",
    "        :param check_login_url: check_login_url for check the login status\n",
    "        :return: True\n",
    "        need rewrite the delegate_check_login_status\n",
    "        \"\"\"   \n",
    "        result = self.ab_get_session_data_with_cookies(check_login_url)\n",
    "        if self.delegate_check_login_status(result=result):\n",
    "            return True\n",
    "        \n",
    "    def al_mannual_login(self,mannual_login_url=None):\n",
    "        \"\"\"\n",
    "        mannual_login\n",
    "        :param mannual_login_url: mannual_login_url to login\n",
    "        :return: True\n",
    "        need rewrite the delegate_check_login_status\n",
    "        \"\"\"   \n",
    "        self.ab_init_chrome_browser()\n",
    "        self.browser.get(mannual_login_url)\n",
    "        if self.delegate_mannual_login():\n",
    "            self.ab_dump_cookies()\n",
    "            self.ab_close_browser()\n",
    "            return True\n",
    "    \n",
    "    def delegate_check_login_status(self,result=None):\n",
    "        raise NotImplementedError\n",
    "    \n",
    "    def delegate_mannual_login(self):\n",
    "        raise NotImplementedError"
   ]
  },
  {
   "cell_type": "code",
   "execution_count": null,
   "metadata": {
    "ExecuteTime": {
     "end_time": "2019-05-15T03:00:56.044107Z",
     "start_time": "2019-05-15T03:00:54.913Z"
    }
   },
   "outputs": [],
   "source": [
    "if __name__ == '__main__':\n",
    "    print('Test for inherit the class AiohttpFrame_Login to login baidu')\n",
    "    print('='*40)\n",
    "    class BaiduLogin(AiohttpFrame_Login):\n",
    "        def __init__(self):\n",
    "            super(BaiduLogin,self).__init__()\n",
    "            self.check_login_url = 'https://passport.baidu.com/center'\n",
    "        \n",
    "        \n",
    "        def delegate_check_login_status(self,result=None):\n",
    "            if '登录历史' in result.content.decode('utf-8'):\n",
    "                return True\n",
    "            \n",
    "        def delegate_mannual_login(self):\n",
    "            print('mannul login')\n",
    "            url = 'https://passport.baidu.com/center'\n",
    "            while not self.browser.current_url == url: # self.browser inherit from parent class\n",
    "                print(self.browser.current_url)\n",
    "                time.sleep(5)\n",
    "            return True\n",
    "\n",
    "    baidulogin = BaiduLogin()\n",
    "    baidulogin.al_keep_login(check_login_url=baidulogin.check_login_url,\n",
    "                             mannual_login_url=baidulogin.check_login_url)"
   ]
  },
  {
   "cell_type": "code",
   "execution_count": null,
   "metadata": {},
   "outputs": [],
   "source": []
  }
 ],
 "metadata": {
  "kernelspec": {
   "display_name": "Python 3",
   "language": "python",
   "name": "python3"
  },
  "varInspector": {
   "cols": {
    "lenName": 16,
    "lenType": 16,
    "lenVar": 40
   },
   "kernels_config": {
    "python": {
     "delete_cmd_postfix": "",
     "delete_cmd_prefix": "del ",
     "library": "var_list.py",
     "varRefreshCmd": "print(var_dic_list())"
    },
    "r": {
     "delete_cmd_postfix": ") ",
     "delete_cmd_prefix": "rm(",
     "library": "var_list.r",
     "varRefreshCmd": "cat(var_dic_list()) "
    }
   },
   "types_to_exclude": [
    "module",
    "function",
    "builtin_function_or_method",
    "instance",
    "_Feature"
   ],
   "window_display": false
  }
 },
 "nbformat": 4,
 "nbformat_minor": 2
}
