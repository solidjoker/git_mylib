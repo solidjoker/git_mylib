{
 "cells": [
  {
   "cell_type": "markdown",
   "metadata": {},
   "source": [
    "# Aiohttp_Config"
   ]
  },
  {
   "cell_type": "code",
   "execution_count": 1,
   "metadata": {
    "ExecuteTime": {
     "end_time": "2019-05-15T02:30:41.705754Z",
     "start_time": "2019-05-15T02:30:41.701761Z"
    },
    "code_folding": [
     1
    ]
   },
   "outputs": [],
   "source": [
    "\"\"\"\n",
    "support tools for aiohttpframe, including chrome_path, cookies_jsonfile, defaultEncoding, headers \n",
    "    - tool_name: Aiohttp_Config\n",
    "    - version: 0.0.2\n",
    "    - update date: 2019-05-15\n",
    "    - import: from mytools_aiohttpframe import AiohttpFrame_Config\n",
    "    - need fill the chrome_path\n",
    "\"\"\"\n",
    "import os"
   ]
  },
  {
   "cell_type": "code",
   "execution_count": 2,
   "metadata": {
    "ExecuteTime": {
     "end_time": "2019-05-15T02:30:42.194445Z",
     "start_time": "2019-05-15T02:30:42.189459Z"
    }
   },
   "outputs": [],
   "source": [
    "if os.path.exists('C:'):\n",
    "    # windows\n",
    "    chrome_path = 'C:/Program Files (x86)/Google/Chrome/Application/chromedriver.exe'\n",
    "else:\n",
    "    # linux\n",
    "    chrome_path = '/usr/bin/chromedriver'\n",
    "    \n",
    "cookies_jsonfile = 'cookie.json'\n",
    "defaultEncoding = 'utf-8'\n",
    "headers = {'User-Agent':'Mozilla/5.0 (Windows NT 10.0; Win64; x64) AppleWebKit/537.36' \\\n",
    "           ' (KHTML, like Gecko) Chrome/74.0.3724.8 Safari/537.36'}"
   ]
  },
  {
   "cell_type": "code",
   "execution_count": null,
   "metadata": {},
   "outputs": [],
   "source": []
  }
 ],
 "metadata": {
  "kernelspec": {
   "display_name": "Python 3",
   "language": "python",
   "name": "python3"
  },
  "language_info": {
   "codemirror_mode": {
    "name": "ipython",
    "version": 3
   },
   "file_extension": ".py",
   "mimetype": "text/x-python",
   "name": "python",
   "nbconvert_exporter": "python",
   "pygments_lexer": "ipython3",
   "version": "3.7.1"
  },
  "varInspector": {
   "cols": {
    "lenName": 16,
    "lenType": 16,
    "lenVar": 40
   },
   "kernels_config": {
    "python": {
     "delete_cmd_postfix": "",
     "delete_cmd_prefix": "del ",
     "library": "var_list.py",
     "varRefreshCmd": "print(var_dic_list())"
    },
    "r": {
     "delete_cmd_postfix": ") ",
     "delete_cmd_prefix": "rm(",
     "library": "var_list.r",
     "varRefreshCmd": "cat(var_dic_list()) "
    }
   },
   "types_to_exclude": [
    "module",
    "function",
    "builtin_function_or_method",
    "instance",
    "_Feature"
   ],
   "window_display": false
  }
 },
 "nbformat": 4,
 "nbformat_minor": 2
}
