{
 "cells": [
  {
   "cell_type": "code",
   "execution_count": 2,
   "metadata": {
    "ExecuteTime": {
     "end_time": "2019-04-30T02:52:18.778929Z",
     "start_time": "2019-04-30T02:52:18.771955Z"
    }
   },
   "outputs": [],
   "source": [
    "import aiohttp\n",
    "import asyncio\n",
    "import os\n",
    "import datetime\n",
    "import json\n",
    "import pickle\n",
    "import pandas as pd\n",
    "import functools\n",
    "\n",
    "import AiohttpFrame_Config\n",
    "from AiohttpFrame_Browser import AiohttpFrame_Browser"
   ]
  },
  {
   "cell_type": "code",
   "execution_count": 5,
   "metadata": {
    "ExecuteTime": {
     "end_time": "2019-04-30T02:53:28.698434Z",
     "start_time": "2019-04-30T02:53:28.671503Z"
    },
    "code_folding": []
   },
   "outputs": [],
   "source": [
    "class Aiohttpframe_FetchAndStore():\n",
    "    '''\n",
    "    version 0.0\n",
    "    need finish delegate functions, example:\n",
    "    \n",
    "    if __name__ == '__main__':\n",
    "    class FetchAndStore(Aiohttpframe_FetchAndStore):\n",
    "        def delegate_prepare_data(self,response):\n",
    "            data = json.loads(response)\n",
    "            start = data['trends_range']['start']\n",
    "            end = data['trends_range']['end']\n",
    "            dateindex = pd.date_range(start=start,end=end,freq='D')\n",
    "            keyword = list(data['trends'].keys())[0]\n",
    "            datas = data['trends'][keyword]\n",
    "            df = pd.DataFrame({'date':dateindex,'keyword':keyword,'data':datas})\n",
    "            return df\n",
    "\n",
    "        def delegate_store_data(self,data):\n",
    "            data.to_csv(f\"{data['keyword'][0]}_{data['date'][0].strftime('%Y-%m-%d')}\",index=False)\n",
    "            return True\n",
    "\n",
    "        def get_date_list(self,sd_date,ed_date,period=7,timefmt=None):\n",
    "            # 得到日期的list[{sd_str,ed_str}]\n",
    "            date_list = []\n",
    "            count = (ed_date - sd_date).days // period + 1\n",
    "            for i in range(1,count+1):\n",
    "                date_list.append({'sd_str':(sd_date+datetime.timedelta(days=period*(i-1))).strftime(timefmt),\n",
    "                                  'ed_str':(sd_date+datetime.timedelta(days=period*(i)-1)).strftime(timefmt)}) \n",
    "            date_list[-1]['ed_str'] = ed_date.strftime('%Y-%m-%d')  # 最后一组的最后一个日期 = EndDate\n",
    "            return date_list\n",
    "    \n",
    "        def prepare_urls(self,region='0',category='0',is_hourly='0',start=None,end=None,period=7,keywords=None):\n",
    "            urlformat = 'https://index.toutiao.com/api/keyword/trends?' \\\n",
    "            'region={region}&category={category}&keyword={keyword}&start={start}&end={end}&is_hourly={is_hourly}'\n",
    "            timefmt = '%Y-%m-%d'      \n",
    "            sd_date = datetime.datetime.strptime(start,timefmt)\n",
    "            ed_date = datetime.datetime.strptime(end,timefmt)\n",
    "            date_list = self.get_date_list(sd_date,ed_date,period=period,timefmt=timefmt)\n",
    "            urls = (urlformat.format(region=region,category=category,is_hourly=is_hourly,\n",
    "                                     start=d['sd_str'].replace('-',''),\n",
    "                                     end=d['ed_str'].replace('-',''),\n",
    "                                     keyword=keyword) for d in date_list for keyword in keywords)\n",
    "            return urls\n",
    "\n",
    "    if __name__ == '__main__':\n",
    "        astime = 0.1\n",
    "        FAS = FetchAndStore(astime=astime)\n",
    "        region = '0' # 全国\n",
    "        category = '0'\n",
    "        keywords =  ['逍客','指南者']# 可变 \n",
    "        start = '2019-03-01'#  可变 >8天不能跑出数据\n",
    "        end = '2019-04-20'# 可变\n",
    "        is_hourly = '0' \n",
    "        urls = FAS.prepare_urls(start=start,end=end,period=7,keywords=keywords)\n",
    "        results = asyncio.run(FAS.get_data_from_urls(urls))\n",
    "    '''       \n",
    "    def __init__(self,chrome_path=None,cookies_jsonfile=None,headers=None,astime=0.1):        \n",
    "        self.chrome_path = AiohttpFrame_Config.chrome_path if not chrome_path else chrome_path\n",
    "        self.cookies_jsonfile = AiohttpFrame_Config.cookies_jsonfile if not cookies_jsonfile else cookies_jsonfile\n",
    "        if not os.path.exists(self.cookies_jsonfile):\n",
    "            json.dump({},open(self.cookies_jsonfile,'w'))\n",
    "        self.headers = AiohttpFrame_Config.headers if not headers else headers\n",
    "        self.astime = astime\n",
    "        self.Browser = AiohttpFrame_Browser(chrome_path=self.chrome_path, \n",
    "                                            cookies_jsonfile=self.cookies_jsonfile,\n",
    "                                            headers=self.headers)\n",
    "        self.cookies = self.Browser.ab_load_cookies()\n",
    "\n",
    "    async def fetch_url(self,session, url):\n",
    "        # 获取url返回的信息\n",
    "        async with session.get(url) as response:\n",
    "            await asyncio.sleep(self.astime)\n",
    "            return await response.text()\n",
    "\n",
    "    async def preprare_data(self,response):\n",
    "        # 对于url返回信息进行预处理\n",
    "        return self.delegate_prepare_data(response)\n",
    "    def delegate_prepare_data(self,response):\n",
    "        raise NotImplemented\n",
    "\n",
    "    async def store_data(self,data):\n",
    "        # 存贮信息\n",
    "        return self.delegate_store_data(data)\n",
    "    def delegate_store_data(self,data):\n",
    "        raise NotImplemented\n",
    "        \n",
    "    async def get_data_from_url(self,url):\n",
    "        # 自定义url\n",
    "        async with aiohttp.ClientSession(headers=self.headers,cookies=self.cookies) as session:\n",
    "            response = await self.fetch_url(session, url)\n",
    "            data = await self.preprare_data(response)\n",
    "            storedata = await self.store_data(data)\n",
    "        return data\n",
    "\n",
    "    async def get_data_from_urls(self,urls):\n",
    "        tasks = [asyncio.ensure_future(self.get_data_from_url(url)) for url in urls]\n",
    "        if self.astime > 0:\n",
    "            for task in tasks:\n",
    "                await task\n",
    "                await asyncio.sleep(self.astime) # 间隔\n",
    "            return asyncio.Task.all_tasks()\n",
    "        else:\n",
    "            result = await asyncio.wait(tasks)\n",
    "            return result[0]\n",
    "    \n",
    "    def prepare_urls(self):\n",
    "        raise NotImplemented\n"
   ]
  },
  {
   "cell_type": "code",
   "execution_count": 8,
   "metadata": {
    "ExecuteTime": {
     "end_time": "2019-04-30T02:53:41.476239Z",
     "start_time": "2019-04-30T02:53:39.336631Z"
    },
    "code_folding": []
   },
   "outputs": [],
   "source": [
    "if __name__ == '__main__':\n",
    "    class FetchAndStore(Aiohttpframe_FetchAndStore):\n",
    "        def delegate_prepare_data(self,response):\n",
    "            data = json.loads(response)\n",
    "            start = data['trends_range']['start']\n",
    "            end = data['trends_range']['end']\n",
    "            dateindex = pd.date_range(start=start,end=end,freq='D')\n",
    "            keyword = list(data['trends'].keys())[0]\n",
    "            datas = data['trends'][keyword]\n",
    "            df = pd.DataFrame({'date':dateindex,'keyword':keyword,'data':datas})\n",
    "            return df\n",
    "\n",
    "        def delegate_store_data(self,data):\n",
    "            data.to_csv(f\"{data['keyword'][0]}_{data['date'][0].strftime('%Y-%m-%d')}\",index=False)\n",
    "            return True\n",
    "\n",
    "        def get_date_list(self,sd_date,ed_date,period=7,timefmt=None):\n",
    "            # 得到日期的list[{sd_str,ed_str}]\n",
    "            date_list = []\n",
    "            count = (ed_date - sd_date).days // period + 1\n",
    "            for i in range(1,count+1):\n",
    "                date_list.append({'sd_str':(sd_date+datetime.timedelta(days=period*(i-1))).strftime(timefmt),\n",
    "                                  'ed_str':(sd_date+datetime.timedelta(days=period*(i)-1)).strftime(timefmt)}) \n",
    "            date_list[-1]['ed_str'] = ed_date.strftime('%Y-%m-%d')  # 最后一组的最后一个日期 = EndDate\n",
    "            return date_list\n",
    "    \n",
    "        def prepare_urls(self,region='0',category='0',is_hourly='0',start=None,end=None,period=7,keywords=None):\n",
    "            urlformat = 'https://index.toutiao.com/api/keyword/trends?' \\\n",
    "            'region={region}&category={category}&keyword={keyword}&start={start}&end={end}&is_hourly={is_hourly}'\n",
    "            timefmt = '%Y-%m-%d'      \n",
    "            sd_date = datetime.datetime.strptime(start,timefmt)\n",
    "            ed_date = datetime.datetime.strptime(end,timefmt)\n",
    "            date_list = self.get_date_list(sd_date,ed_date,period=period,timefmt=timefmt)\n",
    "            urls = (urlformat.format(region=region,category=category,is_hourly=is_hourly,\n",
    "                                     start=d['sd_str'].replace('-',''),\n",
    "                                     end=d['ed_str'].replace('-',''),\n",
    "                                     keyword=keyword) for d in date_list for keyword in keywords)\n",
    "            return urls\n",
    "\n",
    "if __name__ == '__main__':\n",
    "    astime = 0.1\n",
    "    FAS = FetchAndStore(astime=astime)\n",
    "    region = '0' # 全国\n",
    "    category = '0'\n",
    "    keywords =  ['逍客','指南者']# 可变 \n",
    "    start = '2019-03-01'#  可变 >8天不能跑出数据\n",
    "    end = '2019-04-20'# 可变\n",
    "    is_hourly = '0' \n",
    "    urls = FAS.prepare_urls(start=start,end=end,period=7,keywords=keywords)\n",
    "    results = asyncio.run(FAS.get_data_from_urls(urls))"
   ]
  },
  {
   "cell_type": "code",
   "execution_count": 9,
   "metadata": {
    "ExecuteTime": {
     "end_time": "2019-04-30T02:53:42.385903Z",
     "start_time": "2019-04-30T02:53:42.198384Z"
    }
   },
   "outputs": [
    {
     "data": {
      "text/plain": [
       "{<Task finished coro=<Aiohttpframe_FetchAndStore.get_data_from_url() done, defined at <ipython-input-5-807cd11fba68>:34> result=        date ...  2.809630e+06>,\n",
       " <Task finished coro=<Aiohttpframe_FetchAndStore.get_data_from_url() done, defined at <ipython-input-5-807cd11fba68>:34> result=        date ...  45515.250000>,\n",
       " <Task finished coro=<Aiohttpframe_FetchAndStore.get_data_from_url() done, defined at <ipython-input-5-807cd11fba68>:34> result=        date ...  6.227760e+05>,\n",
       " <Task finished coro=<Aiohttpframe_FetchAndStore.get_data_from_url() done, defined at <ipython-input-5-807cd11fba68>:34> result=        date ...  6.681773e+05>,\n",
       " <Task finished coro=<Aiohttpframe_FetchAndStore.get_data_from_url() done, defined at <ipython-input-5-807cd11fba68>:34> result=        date ...  8.187403e+06>,\n",
       " <Task finished coro=<Aiohttpframe_FetchAndStore.get_data_from_url() done, defined at <ipython-input-5-807cd11fba68>:34> result=        date ...  8.579035e+06>,\n",
       " <Task finished coro=<Aiohttpframe_FetchAndStore.get_data_from_url() done, defined at <ipython-input-5-807cd11fba68>:34> result=        date ...  逍客   5531718>,\n",
       " <Task finished coro=<Aiohttpframe_FetchAndStore.get_data_from_url() done, defined at <ipython-input-5-807cd11fba68>:34> result=        date ... 逍客  2609632.5>,\n",
       " <Task finished coro=<Aiohttpframe_FetchAndStore.get_data_from_url() done, defined at <ipython-input-5-807cd11fba68>:34> result=        date ...南者  2263123.25>,\n",
       " <Task finished coro=<Aiohttpframe_FetchAndStore.get_data_from_url() done, defined at <ipython-input-5-807cd11fba68>:34> result=        date ...客   3310322.75>,\n",
       " <Task finished coro=<Aiohttpframe_FetchAndStore.get_data_from_url() done, defined at <ipython-input-5-807cd11fba68>:34> result=        date ...客  18141078.00>,\n",
       " <Task finished coro=<Aiohttpframe_FetchAndStore.get_data_from_url() done, defined at <ipython-input-5-807cd11fba68>:34> result=        date ...客  5077606.500>,\n",
       " <Task finished coro=<Aiohttpframe_FetchAndStore.get_data_from_url() done, defined at <ipython-input-5-807cd11fba68>:34> result=        date ...者  1587288.625>,\n",
       " <Task finished coro=<Aiohttpframe_FetchAndStore.get_data_from_url() done, defined at <ipython-input-5-807cd11fba68>:34> result=        date ...逍客   1033177.5>,\n",
       " <Task finished coro=<Aiohttpframe_FetchAndStore.get_data_from_url() done, defined at <ipython-input-5-807cd11fba68>:34> result=        date ...逍客  11564521.0>,\n",
       " <Task finished coro=<Aiohttpframe_FetchAndStore.get_data_from_url() done, defined at <ipython-input-5-807cd11fba68>:34> result=        date ...逍客  38804488.0>,\n",
       " <Task finished coro=<Aiohttpframe_FetchAndStore.get_data_from_urls() done, defined at <ipython-input-5-807cd11fba68>:42> result={<Task finishe...  18141078.00>, <Task finishe...   3310322.75>, <Task finishe...客  11564521.0>, <Task finishe...逍客  2609632.5>, <Task finishe... 8.187403e+06>, <Task finishe... 2.809630e+06>, ...}>}"
      ]
     },
     "execution_count": 9,
     "metadata": {},
     "output_type": "execute_result"
    }
   ],
   "source": [
    "results"
   ]
  },
  {
   "cell_type": "code",
   "execution_count": null,
   "metadata": {},
   "outputs": [],
   "source": []
  },
  {
   "cell_type": "code",
   "execution_count": null,
   "metadata": {},
   "outputs": [],
   "source": []
  },
  {
   "cell_type": "code",
   "execution_count": null,
   "metadata": {},
   "outputs": [],
   "source": []
  }
 ],
 "metadata": {
  "kernelspec": {
   "display_name": "Python 3",
   "language": "python",
   "name": "python3"
  },
  "varInspector": {
   "cols": {
    "lenName": 16,
    "lenType": 16,
    "lenVar": 40
   },
   "kernels_config": {
    "python": {
     "delete_cmd_postfix": "",
     "delete_cmd_prefix": "del ",
     "library": "var_list.py",
     "varRefreshCmd": "print(var_dic_list())"
    },
    "r": {
     "delete_cmd_postfix": ") ",
     "delete_cmd_prefix": "rm(",
     "library": "var_list.r",
     "varRefreshCmd": "cat(var_dic_list()) "
    }
   },
   "types_to_exclude": [
    "module",
    "function",
    "builtin_function_or_method",
    "instance",
    "_Feature"
   ],
   "window_display": false
  }
 },
 "nbformat": 4,
 "nbformat_minor": 2
}
