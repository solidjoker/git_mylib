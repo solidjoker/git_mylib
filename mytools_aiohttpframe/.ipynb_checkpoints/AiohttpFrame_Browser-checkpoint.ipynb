{
 "cells": [
  {
   "cell_type": "markdown",
   "metadata": {},
   "source": [
    "# AiohttpFrame_Browser"
   ]
  },
  {
   "cell_type": "code",
   "execution_count": 1,
   "metadata": {
    "ExecuteTime": {
     "end_time": "2019-05-15T02:39:44.879420Z",
     "start_time": "2019-05-15T02:39:44.247082Z"
    },
    "code_folding": [
     1
    ]
   },
   "outputs": [],
   "source": [
    "\"\"\"\n",
    "support tools for aiohttpframe, see the docs in the Class AiohttpFrame_Browser for detail\n",
    "    - tool_name: AiohttpFrame_Browser\n",
    "    - version: 0.0.2\n",
    "    - update date: 2019-05-15\n",
    "    - import: from mytools_aiohttpframe import AiohttpFrame_Browser\n",
    "\"\"\"\n",
    "\n",
    "import os\n",
    "import json\n",
    "import traceback\n",
    "import requests\n",
    "from selenium import webdriver\n",
    "from selenium.webdriver.common.desired_capabilities import DesiredCapabilities\n",
    "\n",
    "from mytools_aiohttpframe import AiohttpFrame_Config"
   ]
  },
  {
   "cell_type": "code",
   "execution_count": 2,
   "metadata": {
    "ExecuteTime": {
     "end_time": "2019-05-15T02:39:44.914330Z",
     "start_time": "2019-05-15T02:39:44.882413Z"
    },
    "code_folding": [
     0,
     9,
     28,
     43
    ]
   },
   "outputs": [],
   "source": [
    "class AiohttpFrame_Browser:\n",
    "    \"\"\"\n",
    "    support tools for aiohttpframe, see the docs in the Class AiohttpFrame_Browser for detail\n",
    "        - tool_name: AiohttpFrame_Browser\n",
    "        - version: 0.0.2\n",
    "        - update date: 2019-05-15\n",
    "        - import: from mytools_aiohttpframe import AiohttpFrame_Browser\n",
    "    \"\"\"\n",
    "\n",
    "    def __init__(self, chrome_path=None,cookies_jsonfile=None,headers=None):\n",
    "        \"\"\"\n",
    "        init the class and get the setting of chrome browser\n",
    "        :param chrome_path: chrome_path, or AiohttpFrame_Config.chrome_path if None\n",
    "        :param cookies_jsonfile: cookies_jsonfile, or AiohttpFrame_Config.cookies_jsonfile if None\n",
    "        :param headers: headers, or AiohttpFrame_Config.headers if None        \n",
    "        \"\"\"    \n",
    "        if not chrome_path:\n",
    "            chrome_path = AiohttpFrame_Config.chrome_path\n",
    "        self.chrome_path = chrome_path\n",
    "        if not cookies_jsonfile:\n",
    "            cookies_jsonfile = AiohttpFrame_Config.cookies_jsonfile\n",
    "        self.cookies_jsonfile = cookies_jsonfile\n",
    "        if not headers:\n",
    "            headers = AiohttpFrame_Config.headers\n",
    "        self.headers = headers\n",
    "        if not os.path.exists(self.cookies_jsonfile):\n",
    "            json.dump({},open(self.cookies_jsonfile,'w'))\n",
    "            \n",
    "    def ab_init_chrome_browser(self):\n",
    "        \"\"\"\n",
    "        init the chrome browser    \n",
    "        \"\"\"            \n",
    "        executable_path = self.chrome_path\n",
    "        options = self.ab_set_chrome_options()\n",
    "        # get the log of the browser\n",
    "        desired = DesiredCapabilities.CHROME\n",
    "        desired['loggingPrefs'] = {'performance':'ALL'}\n",
    "        self.browser = webdriver.Chrome(executable_path=executable_path,\n",
    "                                        options=options,\n",
    "                                        desired_capabilities=desired)\n",
    "        #  wait 1 second\n",
    "        self.browser.implicitly_wait(1)\n",
    "    \n",
    "    def ab_set_chrome_options(self):\n",
    "        \"\"\"\n",
    "        set the chrome browser    \n",
    "        \"\"\"  \n",
    "        options = webdriver.ChromeOptions()\n",
    "        options.add_argument('disable-infobars')    \n",
    "        #options.add_argument('--window-position=0,0')\n",
    "        options.add_argument('--start-maximized')\n",
    "        options.add_argument('--force-device-scale-factor=1')\n",
    "        prefs = {'profile.default_content_setting_values':{'notifications':2}}\n",
    "        options.add_experimental_option('prefs',prefs)\n",
    "        return options\n",
    "    \n",
    "    def ab_get_session_data_with_cookies(self,url=None):\n",
    "        \"\"\"\n",
    "        get session url with cookies\n",
    "        :url: param chrome_path: chrome_path, or AiohttpFrame_Config.chrome_path if None\n",
    "        :return: content of the url        \n",
    "        \"\"\"           \n",
    "        if url:\n",
    "            session = requests.Session()\n",
    "            cookies = self.ab_load_cookies()\n",
    "            session.cookies.update(cookies)\n",
    "            result = session.get(url,headers=self.headers)\n",
    "            return result\n",
    "    \n",
    "    def ab_dump_cookies(self):\n",
    "        \"\"\"\n",
    "        save the cookies as json into self.cookies_jsonfile      \n",
    "        \"\"\"  \n",
    "        cookies = self.browser.get_cookies()\n",
    "        cookies = {item['name']:item['value'] for item in cookies}\n",
    "        json.dump(cookies,open(self.cookies_jsonfile,'w'))\n",
    "    \n",
    "    def ab_load_cookies(self):\n",
    "        \"\"\"\n",
    "        load the cookies as json from self.cookies_jsonfile      \n",
    "        \"\"\"  \n",
    "        try:\n",
    "            cookies = json.load(open(self.cookies_jsonfile))\n",
    "            return cookies\n",
    "        except:\n",
    "            traceback.print_exc()\n",
    "        \n",
    "    def ab_close_browser(self):\n",
    "        \"\"\"\n",
    "        close the browser\n",
    "        \"\"\"  \n",
    "        try:\n",
    "            self.browser.quit()\n",
    "            return True\n",
    "        except:\n",
    "            traceback.print_exc()\n",
    "            return False"
   ]
  },
  {
   "cell_type": "code",
   "execution_count": 3,
   "metadata": {
    "ExecuteTime": {
     "end_time": "2019-05-15T02:40:04.449955Z",
     "start_time": "2019-05-15T02:39:45.420002Z"
    },
    "code_folding": [
     0
    ]
   },
   "outputs": [
    {
     "name": "stdout",
     "output_type": "stream",
     "text": [
      "{'H_PS_PSSID': '26524_1451_21120_28518_28773_28723_28963_28834_28585_26350_20718', 'delPer': '0', 'BAIDUID': '20F6680C2B5371E1D7C6B469B555F9A0:FG=1', 'PSTM': '1557887999', 'BIDUPSID': '20F6680C2B5371E1D7C6B469B555F9A0', 'BD_HOME': '0', 'BD_UPN': '12314753'}\n"
     ]
    }
   ],
   "source": [
    "if __name__ == '__main__':\n",
    "    url = 'https://www.baidu.com'\n",
    "    mybrowser = AiohttpFrame_Browser()\n",
    "    mybrowser.ab_init_chrome_browser() # 打开selenium浏览器\n",
    "    mybrowser.browser.get(url=url)\n",
    "    mybrowser.ab_dump_cookies()\n",
    "    print(mybrowser.ab_load_cookies())\n",
    "    mybrowser.ab_close_browser()"
   ]
  },
  {
   "cell_type": "code",
   "execution_count": null,
   "metadata": {},
   "outputs": [],
   "source": []
  }
 ],
 "metadata": {
  "kernelspec": {
   "display_name": "Python 3",
   "language": "python",
   "name": "python3"
  },
  "language_info": {
   "codemirror_mode": {
    "name": "ipython",
    "version": 3
   },
   "file_extension": ".py",
   "mimetype": "text/x-python",
   "name": "python",
   "nbconvert_exporter": "python",
   "pygments_lexer": "ipython3",
   "version": "3.7.1"
  },
  "varInspector": {
   "cols": {
    "lenName": 16,
    "lenType": 16,
    "lenVar": 40
   },
   "kernels_config": {
    "python": {
     "delete_cmd_postfix": "",
     "delete_cmd_prefix": "del ",
     "library": "var_list.py",
     "varRefreshCmd": "print(var_dic_list())"
    },
    "r": {
     "delete_cmd_postfix": ") ",
     "delete_cmd_prefix": "rm(",
     "library": "var_list.r",
     "varRefreshCmd": "cat(var_dic_list()) "
    }
   },
   "types_to_exclude": [
    "module",
    "function",
    "builtin_function_or_method",
    "instance",
    "_Feature"
   ],
   "window_display": false
  }
 },
 "nbformat": 4,
 "nbformat_minor": 2
}
