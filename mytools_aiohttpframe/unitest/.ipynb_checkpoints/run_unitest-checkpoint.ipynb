{
 "cells": [
  {
   "cell_type": "code",
   "execution_count": 2,
   "metadata": {
    "ExecuteTime": {
     "end_time": "2019-05-14T10:38:29.980014Z",
     "start_time": "2019-05-14T10:38:29.976026Z"
    }
   },
   "outputs": [],
   "source": [
    "from mytools_aiohttpframe import AiohttpFrame_Browser"
   ]
  },
  {
   "cell_type": "code",
   "execution_count": 3,
   "metadata": {
    "ExecuteTime": {
     "end_time": "2019-05-14T10:38:30.149561Z",
     "start_time": "2019-05-14T10:38:30.143578Z"
    }
   },
   "outputs": [],
   "source": [
    "?AiohttpFrame_Browser"
   ]
  },
  {
   "cell_type": "code",
   "execution_count": 3,
   "metadata": {
    "ExecuteTime": {
     "end_time": "2019-05-09T08:15:55.553092Z",
     "start_time": "2019-05-09T08:15:55.396532Z"
    }
   },
   "outputs": [
    {
     "name": "stderr",
     "output_type": "stream",
     "text": [
      "...F..\n",
      "======================================================================\n",
      "FAIL: test_get_table_rows_case1 (__main__.Test_sqlite3_tools)\n",
      "----------------------------------------------------------------------\n",
      "Traceback (most recent call last):\n",
      "  File \"C:\\SmithYe\\PythonProject3\\MyPythonLib\\mytools_database\\unitest\\unitest_sqlite3_tools.py\", line 38, in test_get_table_rows_case1\n",
      "    self.assertEqual(table_rows, check)\n",
      "AssertionError: 60 != 52\n",
      "\n",
      "----------------------------------------------------------------------\n",
      "Ran 6 tests in 0.144s\n",
      "\n",
      "FAILED (failures=1)\n"
     ]
    },
    {
     "ename": "SystemExit",
     "evalue": "True",
     "output_type": "error",
     "traceback": [
      "An exception has occurred, use %tb to see the full traceback.\n",
      "\u001b[0;31mSystemExit\u001b[0m\u001b[0;31m:\u001b[0m True\n"
     ]
    }
   ],
   "source": [
    "%run unitest_aiohttpframe.py"
   ]
  },
  {
   "cell_type": "code",
   "execution_count": 4,
   "metadata": {
    "ExecuteTime": {
     "end_time": "2019-05-09T08:15:59.005668Z",
     "start_time": "2019-05-09T08:15:58.931838Z"
    }
   },
   "outputs": [],
   "source": [
    "from mytools_database import pymysql_tools"
   ]
  },
  {
   "cell_type": "code",
   "execution_count": 5,
   "metadata": {
    "ExecuteTime": {
     "end_time": "2019-05-09T08:15:59.578247Z",
     "start_time": "2019-05-09T08:15:59.572263Z"
    }
   },
   "outputs": [],
   "source": [
    "?pymysql_tools"
   ]
  },
  {
   "cell_type": "code",
   "execution_count": 6,
   "metadata": {
    "ExecuteTime": {
     "end_time": "2019-05-09T08:16:04.136160Z",
     "start_time": "2019-05-09T08:16:01.060752Z"
    }
   },
   "outputs": [
    {
     "name": "stderr",
     "output_type": "stream",
     "text": [
      "...\n",
      "----------------------------------------------------------------------\n",
      "Ran 3 tests in 3.067s\n",
      "\n",
      "OK\n"
     ]
    }
   ],
   "source": [
    "%run unitest_pymysql_tools.py"
   ]
  },
  {
   "cell_type": "code",
   "execution_count": null,
   "metadata": {},
   "outputs": [],
   "source": []
  }
 ],
 "metadata": {
  "kernelspec": {
   "display_name": "Python 3",
   "language": "python",
   "name": "python3"
  },
  "language_info": {
   "codemirror_mode": {
    "name": "ipython",
    "version": 3
   },
   "file_extension": ".py",
   "mimetype": "text/x-python",
   "name": "python",
   "nbconvert_exporter": "python",
   "pygments_lexer": "ipython3",
   "version": "3.7.1"
  },
  "varInspector": {
   "cols": {
    "lenName": 16,
    "lenType": 16,
    "lenVar": 40
   },
   "kernels_config": {
    "python": {
     "delete_cmd_postfix": "",
     "delete_cmd_prefix": "del ",
     "library": "var_list.py",
     "varRefreshCmd": "print(var_dic_list())"
    },
    "r": {
     "delete_cmd_postfix": ") ",
     "delete_cmd_prefix": "rm(",
     "library": "var_list.r",
     "varRefreshCmd": "cat(var_dic_list()) "
    }
   },
   "types_to_exclude": [
    "module",
    "function",
    "builtin_function_or_method",
    "instance",
    "_Feature"
   ],
   "window_display": false
  }
 },
 "nbformat": 4,
 "nbformat_minor": 2
}
